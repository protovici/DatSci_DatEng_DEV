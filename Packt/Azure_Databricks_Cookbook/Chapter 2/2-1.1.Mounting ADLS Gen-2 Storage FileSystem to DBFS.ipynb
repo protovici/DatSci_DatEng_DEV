{
 "cells": [
  {
   "cell_type": "code",
   "execution_count": null,
   "metadata": {},
   "outputs": [],
   "source": [
    "#ClientId, TenantId and Secret is for the Application(ADLSGen2App) was have created as part of this recipe\n",
    "clientID =\" a09ca6ee-025c-43ef-acce-4e7a3e4aee1e\"\n",
    "tenantID =\"8d6647f5-d8d4-47c2-af2a-ea579395c04a\"\n",
    "clientSecret =\"86f15e08-d522-450b-a55d-748aea3e0f3d\"\n",
    "oauth2Endpoint = \"https://login.microsoftonline.com/{}/oauth2/token\".format(tenantID)\n",
    "configs = {\"fs.azure.account.auth.type\": \"OAuth\",\n",
    "           \"fs.azure.account.oauth.provider.type\": \"org.apache.hadoop.fs.azurebfs.oauth2.ClientCredsTokenProvider\",\n",
    "           \"fs.azure.account.oauth2.client.id\": clientID,\n",
    "           \"fs.azure.account.oauth2.client.secret\": clientSecret,\n",
    "           \"fs.azure.account.oauth2.client.endpoint\": oauth2Endpoint}\n",
    "try:\n",
    "  dbutils.fs.mount(\n",
    "  source = storageEndPoint,\n",
    "  mount_point = mountpoint,\n",
    "  extra_configs = configs)\n",
    "except:\n",
    "    print(\"Already mounted....\"+mountpoint)"
   ]
  },
  {
   "cell_type": "code",
   "execution_count": null,
   "metadata": {},
   "outputs": [],
   "source": [
    "%fs ls /mnt/Gen2"
   ]
  }
 ],
 "metadata": {
  "kernelspec": {
   "display_name": "Python 3",
   "language": "python",
   "name": "python3"
  },
  "language_info": {
   "name": "python",
   "version": "3.9.9 (tags/v3.9.9:ccb0e6a, Nov 15 2021, 18:08:50) [MSC v.1929 64 bit (AMD64)]"
  },
  "orig_nbformat": 4,
  "vscode": {
   "interpreter": {
    "hash": "4e6fcc338748dd3bd43ea22c6d7dd350a80d5de6df24c758a0a11d7cd57f2e3d"
   }
  }
 },
 "nbformat": 4,
 "nbformat_minor": 2
}
